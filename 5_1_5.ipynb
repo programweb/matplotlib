{
 "cells": [
  {
   "cell_type": "code",
   "execution_count": 4,
   "metadata": {},
   "outputs": [],
   "source": [
    "import numpy as np\n",
    "import scipy.stats as ss\n",
    "import matplotlib.pyplot as plt\n",
    "import statsmodels.api as sm         # good if used to R language\n",
    "\n",
    "# it is in 5.1.2_quiz.py\n",
    "n = 100\n",
    "beta_0 = 5\n",
    "beta_1 = 2\n",
    "np.random.seed(1)\n",
    "# 'n' random variables that are distributed between 0 and 1\n",
    "x = 10 * ss.uniform.rvs(size=n)\n",
    "# Add random noise (gaussian) with ss.norm (mean=0, n=100)\n",
    "y = beta_0 + beta_1 * x + ss.norm.rvs(loc=0, scale = 1, size = n)\n",
    "\n",
    "mod = sm.OLS(y, x)\n",
    "est = mod.fit()\n",
    "# print(est.summary())   #slope is artificially large because y intercept going through origin"
   ]
  },
  {
   "cell_type": "code",
   "execution_count": 5,
   "metadata": {},
   "outputs": [
    {
     "name": "stdout",
     "output_type": "stream",
     "text": [
      "                            OLS Regression Results                            \n",
      "==============================================================================\n",
      "Dep. Variable:                      y   R-squared:                       0.977\n",
      "Model:                            OLS   Adj. R-squared:                  0.977\n",
      "Method:                 Least Squares   F-statistic:                     4115.\n",
      "Date:                Fri, 19 Nov 2021   Prob (F-statistic):           7.47e-82\n",
      "Time:                        14:10:31   Log-Likelihood:                -130.72\n",
      "No. Observations:                 100   AIC:                             265.4\n",
      "Df Residuals:                      98   BIC:                             270.7\n",
      "Df Model:                           1                                         \n",
      "Covariance Type:            nonrobust                                         \n",
      "==============================================================================\n",
      "                 coef    std err          t      P>|t|      [0.025      0.975]\n",
      "------------------------------------------------------------------------------\n",
      "const          5.2370      0.174     30.041      0.000       4.891       5.583\n",
      "x1             1.9685      0.031     64.151      0.000       1.908       2.029\n",
      "==============================================================================\n",
      "Omnibus:                        2.308   Durbin-Watson:                   2.206\n",
      "Prob(Omnibus):                  0.315   Jarque-Bera (JB):                1.753\n",
      "Skew:                          -0.189   Prob(JB):                        0.416\n",
      "Kurtosis:                       3.528   Cond. No.                         11.2\n",
      "==============================================================================\n",
      "\n",
      "Warnings:\n",
      "[1] Standard Errors assume that the covariance matrix of the errors is correctly specified.\n"
     ]
    }
   ],
   "source": [
    "# X like x but has constants added to it\n",
    "X = sm.add_constant(x)\n",
    "# print(X)\n",
    "mod = sm.OLS(y, X)\n",
    "est = mod.fit()\n",
    "print(est.summary())  #constant: 5.2370   the predictor x1 estimated at: 1.9685\n",
    "# The intercept 5.2 is the value of the outcome y when all predictors, here just x1, are set to 0."
   ]
  },
  {
   "cell_type": "code",
   "execution_count": null,
   "metadata": {},
   "outputs": [],
   "source": [
    "print(\"\"\"\n",
    "So how well did we do?\n",
    "The output summary includes the so-called r-squared statistic,\n",
    "which is the proportion of variance explained.\n",
    "And because it's a proportion, it's always between 0 and 1.\n",
    "But what does variance explained actually mean?\n",
    "Before we fit our model, we can compute what\n",
    "is called the total sum of squares, or TSS, which\n",
    "is defined as the sum of the squared differences between outcome\n",
    "yi and the mean outcome.\n",
    "Now after we've created the model, we compute a similar quantity\n",
    "called the residual sum of squares, RSS, which\n",
    "is defined as the sum of the squared differences between the outcome yi\n",
    "and the outcome predicted by the model yi hat.\n",
    "If the model is useful at all, we would expect\n",
    "the RSS is to be smaller than the TSS.\n",
    "The r-squared statistic takes the difference between TSS and RSS,\n",
    "and then divides that quantity by TSS.\n",
    "A number near 0, therefore, indicates that the model did not\n",
    "explain much of the variability in the response or the outcome.\n",
    "Larger values are better, but what values of r-squared are considered good\n",
    "always depends on the application context.\"\"\")"
   ]
  },
  {
   "cell_type": "code",
   "execution_count": null,
   "metadata": {},
   "outputs": [],
   "source": []
  }
 ],
 "metadata": {
  "kernelspec": {
   "display_name": "Python 3",
   "language": "python",
   "name": "python3"
  },
  "language_info": {
   "codemirror_mode": {
    "name": "ipython",
    "version": 3
   },
   "file_extension": ".py",
   "mimetype": "text/x-python",
   "name": "python",
   "nbconvert_exporter": "python",
   "pygments_lexer": "ipython3",
   "version": "3.7.4"
  }
 },
 "nbformat": 4,
 "nbformat_minor": 4
}
