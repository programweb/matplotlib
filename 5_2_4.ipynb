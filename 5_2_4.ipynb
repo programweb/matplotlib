{
 "cells": [
  {
   "cell_type": "code",
   "execution_count": 5,
   "metadata": {},
   "outputs": [
    {
     "name": "stderr",
     "output_type": "stream",
     "text": [
      "/opt/anaconda3/lib/python3.7/site-packages/sklearn/linear_model/logistic.py:432: FutureWarning: Default solver will be changed to 'lbfgs' in 0.22. Specify a solver to silence this warning.\n",
      "  FutureWarning)\n"
     ]
    },
    {
     "data": {
      "text/plain": [
       "LogisticRegression(C=1.0, class_weight=None, dual=False, fit_intercept=True,\n",
       "                   intercept_scaling=1, l1_ratio=None, max_iter=100,\n",
       "                   multi_class='warn', n_jobs=None, penalty='l2',\n",
       "                   random_state=None, solver='warn', tol=0.0001, verbose=0,\n",
       "                   warm_start=False)"
      ]
     },
     "execution_count": 5,
     "metadata": {},
     "output_type": "execute_result"
    }
   ],
   "source": [
    "import numpy as np\n",
    "import scipy.stats as ss\n",
    "import matplotlib.pyplot as plt\n",
    "%matplotlib notebook\n",
    "\n",
    "# from sklearn.linear_model import LinearRegression\n",
    "from sklearn.model_selection import train_test_split\n",
    "from sklearn.linear_model import LogisticRegression\n",
    "# clf = LogisticRegression() # set up classifier object which generates the model object\n",
    "# start from before\n",
    "h = 1\n",
    "sd = 1\n",
    "n = 50\n",
    "\n",
    "def gen_data(n, h, sd1, sd2):\n",
    "    # mean, sd, number of points to generate\n",
    "    x1 = ss.norm.rvs(-h, sd1, n)\n",
    "    y1 = ss.norm.rvs(0, sd1, n)\n",
    "\n",
    "    x2 = ss.norm.rvs(h, sd2, n)\n",
    "    y2 = ss.norm.rvs(0, sd2, n)\n",
    "    return (x1, y1, x2, y2)\n",
    "\n",
    "(x1, y1, x2, y2) = gen_data(n, h, 1, 1.5)\n",
    "(x1, y1, x2, y2) = gen_data(1000, 1.5, 1, 1.5)\n",
    "# end from before\n",
    "\n",
    "\n",
    "clf = LogisticRegression() # set up classifier object which generates the model object\n",
    "X = np.vstack((np.vstack((x1, y1)).T, np.vstack((x2, y2)).T))\n",
    "X.shape\n",
    "n = 1000\n",
    "y = np.hstack((np.repeat(1,n), np.repeat(2,n)))\n",
    "y.shape\n",
    "X_train, X_test, y_train, y_test = train_test_split(X, y, train_size=0.5, random_state=1)\n",
    "X_train.shape\n",
    "clf.fit(X_train, y_train)\n",
    "\n",
    "# The above block is from before"
   ]
  },
  {
   "cell_type": "code",
   "execution_count": 6,
   "metadata": {},
   "outputs": [],
   "source": [
    "# What does the pattern of probabilities across the grid (at 7:34 in Video 5.2.4) indicate about  𝑋1  and  𝑋2 ?\n",
    "#              The class probability is determined mostly by  𝑋1 .\n",
    "# The sum of the class probabilities: \n",
    "#              will always equal 1 for any number of classes.\n",
    "# Internet says: The sum of the probabilities in a probability distribution is always 1. A probability distribution is a collection of \n",
    "# probabilities that defines the likelihood of observing all of the various outcomes of an event or experiment."
   ]
  },
  {
   "cell_type": "code",
   "execution_count": 7,
   "metadata": {},
   "outputs": [],
   "source": [
    "def plot_probs(ax, clf, class_no):\n",
    "    xx1, xx2 = np.meshgrid(np.arange(-5, 5, 0.1), np.arange(-5, 5, 0.1))\n",
    "    probs = clf.predict_proba(np.stack((xx1.ravel(), xx2.ravel()), axis=1))\n",
    "    Z = probs[:,class_no]\n",
    "    Z = Z.reshape(xx1.shape)\n",
    "    CS = ax.contourf(xx1, xx2, Z)\n",
    "    cbar = plt.colorbar(CS)\n",
    "    plt.xlabel(\"$X_1$\")\n",
    "    plt.ylabel(\"$X_2$\")"
   ]
  },
  {
   "cell_type": "code",
   "execution_count": 4,
   "metadata": {},
   "outputs": [
    {
     "data": {
      "image/png": "[encoded data removed]",
      "text/plain": [
       "<Figure size 360x576 with 4 Axes>"
      ]
     },
     "metadata": {
      "needs_background": "light"
     },
     "output_type": "display_data"
    }
   ],
   "source": [
    "# got next line from the internet\n",
    "%matplotlib inline\n",
    "\n",
    "plt.figure(figsize=(5,8))\n",
    "ax = plt.subplot(211)\n",
    "plot_probs(ax, clf, 0)\n",
    "plt.title(\"Pred. prob for class 1\")\n",
    "ax = plt.subplot(212)\n",
    "plot_probs(ax, clf, 1)\n",
    "plt.title(\"Pred. prob for class 2\");"
   ]
  },
  {
   "cell_type": "code",
   "execution_count": null,
   "metadata": {},
   "outputs": [],
   "source": []
  }
 ],
 "metadata": {
  "kernelspec": {
   "display_name": "Python 3",
   "language": "python",
   "name": "python3"
  },
  "language_info": {
   "codemirror_mode": {
    "name": "ipython",
    "version": 3
   },
   "file_extension": ".py",
   "mimetype": "text/x-python",
   "name": "python",
   "nbconvert_exporter": "python",
   "pygments_lexer": "ipython3",
   "version": "3.7.4"
  }
 },
 "nbformat": 4,
 "nbformat_minor": 4
}
